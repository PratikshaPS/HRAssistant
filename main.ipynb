{
 "cells": [
  {
   "cell_type": "code",
   "execution_count": 2,
   "metadata": {},
   "outputs": [],
   "source": [
    "import os\n",
    "\n",
    "llamaparse_api_key = os.environ.get('LLAMA_CLOUD_API_KEY')\n",
    "openai_api_key = os.environ.get(\"OPENAI_API_KEY\")"
   ]
  },
  {
   "cell_type": "code",
   "execution_count": 3,
   "metadata": {},
   "outputs": [
    {
     "data": {
      "text/plain": [
       "True"
      ]
     },
     "execution_count": 3,
     "metadata": {},
     "output_type": "execute_result"
    }
   ],
   "source": [
    "##### LLAMAPARSE #####\n",
    "from llama_parse import LlamaParse\n",
    "\n",
    "from langchain.text_splitter import RecursiveCharacterTextSplitter\n",
    "from langchain_community.embeddings.fastembed import FastEmbedEmbeddings\n",
    "from langchain_community.vectorstores import Chroma\n",
    "from langchain_community.document_loaders import DirectoryLoader\n",
    "from langchain_community.document_loaders import UnstructuredMarkdownLoader\n",
    "from langchain.memory import ConversationBufferMemory\n",
    "from langchain.chains import ConversationalRetrievalChain\n",
    "from langchain.prompts import PromptTemplate\n",
    "from langchain.chains import RetrievalQA\n",
    "from groq import Groq\n",
    "from langchain_groq import ChatGroq\n",
    "import joblib\n",
    "import os\n",
    "import nest_asyncio  # noqa: E402\n",
    "nest_asyncio.apply()\n",
    "from langchain.chat_models import ChatOpenAI\n",
    "from dotenv import load_dotenv\n",
    "load_dotenv()"
   ]
  },
  {
   "cell_type": "code",
   "execution_count": 5,
   "metadata": {},
   "outputs": [],
   "source": [
    "def load_or_parse_data():\n",
    "    data_file = \"./data/parsed_data.pkl\"\n",
    "\n",
    "    if os.path.exists(data_file):\n",
    "        # Load the parsed data from the file\n",
    "        parsed_data = joblib.load(data_file)\n",
    "        print(\"loading the data\")\n",
    "    else:\n",
    "        print(\"I'm in else\")\n",
    "        # Perform the parsing step and store the result in llama_parse_documents\n",
    "        parsingInstructionUber10k = \"\"\"The provided document is a HR policies\n",
    "        of an organization.\n",
    "        Try to be precise while answering the questions\"\"\"\n",
    "        parser = LlamaParse(api_key=llamaparse_api_key,\n",
    "                            result_type=\"markdown\",\n",
    "                            parsing_instruction=parsingInstructionUber10k,\n",
    "                            max_timeout=5000,)\n",
    "        llama_parse_documents = parser.load_data(\"./data/HR_Policy_Manual_KFSLnew.pdf\")\n",
    "\n",
    "\n",
    "        # Save the parsed data to a file\n",
    "        print(\"Saving the parse results in .pkl format ..........\")\n",
    "        joblib.dump(llama_parse_documents, data_file)\n",
    "\n",
    "        # Set the parsed data to the variable\n",
    "        parsed_data = llama_parse_documents\n",
    "\n",
    "    return parsed_data"
   ]
  },
  {
   "cell_type": "code",
   "execution_count": 6,
   "metadata": {},
   "outputs": [],
   "source": [
    "import chardet\n",
    "\n",
    "def convert_to_utf8(file_path):\n",
    "    \"\"\"\n",
    "    Convert the given file to UTF-8 encoding if it's not already in that format.\n",
    "    \"\"\"\n",
    "    with open(file_path, 'rb') as f:\n",
    "        raw_data = f.read()\n",
    "\n",
    "    # Detect file encoding using chardet\n",
    "    result = chardet.detect(raw_data)\n",
    "    encoding = result['encoding'] or 'utf-8'  # Default to utf-8 if detection fails\n",
    "    # print(encoding)\n",
    "\n",
    "    print(f\"Detected encoding: {encoding}\")\n",
    "\n",
    "    # Decode using the detected encoding and re-encode as utf-8\n",
    "    text = raw_data.decode(encoding)\n",
    "    \n",
    "    with open(file_path, 'w', encoding='utf-8') as f:\n",
    "        f.write(text)\n",
    "\n",
    "    print(f\"File converted to UTF-8 successfully: {file_path}\")\n",
    "\n",
    "# convert_to_utf8(\"data/output.md\")"
   ]
  },
  {
   "cell_type": "code",
   "execution_count": 9,
   "metadata": {},
   "outputs": [],
   "source": [
    "def create_vector_database():\n",
    "    \n",
    "    # Call the function to either load or parse the data\n",
    "    llama_parse_documents = load_or_parse_data()\n",
    "\n",
    "    with open('data/output.md', 'a', encoding='utf-8', errors='ignore') as f:  # Open the file in append mode ('a')\n",
    "        for doc in llama_parse_documents:\n",
    "            f.write(doc.text + '\\n')\n",
    "\n",
    "    markdown_path = \"./data/output.md\"\n",
    "\n",
    "    convert_to_utf8(\"data/output.md\")\n",
    "    print(\"utf conversion done\")\n",
    "    \n",
    "    loader = UnstructuredMarkdownLoader(markdown_path)\n",
    "\n",
    "    documents = loader.load()\n",
    "    # Split loaded documents into chunks\n",
    "    text_splitter = RecursiveCharacterTextSplitter(chunk_size=2000, chunk_overlap=100)\n",
    "    docs = text_splitter.split_documents(documents)\n",
    "\n",
    "    #len(docs)\n",
    "    # print(f\"length of documents loaded: {len(documents)}\")\n",
    "    # print(f\"total number of document chunks generated :{len(docs)}\")\n",
    "    #docs[0]\n",
    "\n",
    "    # Initialize Embeddings\n",
    "    embed_model = FastEmbedEmbeddings(model_name=\"BAAI/bge-base-en-v1.5\")\n",
    "\n",
    "    # Create and persist a Chroma vector database from the chunked documents\n",
    "    # vs = Chroma.from_documents(\n",
    "    #     documents=docs,\n",
    "    #     embedding=embed_model,\n",
    "    #     persist_directory=\"chroma_db_llamaparse1\",  # Local mode with in-memory storage only\n",
    "    #     collection_name=\"rag\"\n",
    "    # )\n",
    "\n",
    "    print('Vector DB created successfully !')\n",
    "    return embed_model"
   ]
  },
  {
   "cell_type": "code",
   "execution_count": 10,
   "metadata": {},
   "outputs": [
    {
     "name": "stdout",
     "output_type": "stream",
     "text": [
      "loading the data\n",
      "Detected encoding: utf-8\n",
      "File converted to UTF-8 successfully: data/output.md\n",
      "utf conversion done\n"
     ]
    },
    {
     "name": "stderr",
     "output_type": "stream",
     "text": [
      "d:\\Pratiksha\\llamaparse\\llama\\lib\\site-packages\\tqdm\\auto.py:21: TqdmWarning: IProgress not found. Please update jupyter and ipywidgets. See https://ipywidgets.readthedocs.io/en/stable/user_install.html\n",
      "  from .autonotebook import tqdm as notebook_tqdm\n",
      "Fetching 5 files: 100%|██████████| 5/5 [00:00<?, ?it/s]\n"
     ]
    },
    {
     "name": "stdout",
     "output_type": "stream",
     "text": [
      "Vector DB created successfully !\n"
     ]
    }
   ],
   "source": [
    "embed_model = create_vector_database()"
   ]
  },
  {
   "cell_type": "code",
   "execution_count": 11,
   "metadata": {},
   "outputs": [],
   "source": [
    "llm = ChatOpenAI(\n",
    "    model_name = 'gpt-3.5-turbo',\n",
    "    temperature = 0\n",
    "    )"
   ]
  },
  {
   "cell_type": "code",
   "execution_count": 12,
   "metadata": {},
   "outputs": [
    {
     "name": "stderr",
     "output_type": "stream",
     "text": [
      "C:\\Users\\prati\\AppData\\Local\\Temp\\ipykernel_10040\\883459637.py:1: LangChainDeprecationWarning: The class `Chroma` was deprecated in LangChain 0.2.9 and will be removed in 1.0. An updated version of the class exists in the langchain-chroma package and should be used instead. To use it run `pip install -U langchain-chroma` and import as `from langchain_chroma import Chroma`.\n",
      "  vectorstore = Chroma(embedding_function=embed_model,\n"
     ]
    }
   ],
   "source": [
    "vectorstore = Chroma(embedding_function=embed_model,\n",
    "                    persist_directory=\"chroma_db_llamaparse1\",\n",
    "                    collection_name=\"rag\")\n",
    "\n",
    "retriever=vectorstore.as_retriever(search_kwargs={'k': 1})"
   ]
  },
  {
   "cell_type": "code",
   "execution_count": 13,
   "metadata": {},
   "outputs": [],
   "source": [
    "custom_prompt_template = \"\"\"Use the following pieces of information to answer the user's question.\n",
    "If you don't know the answer, just say that you don't know, don't try to make up an answer.\n",
    "\n",
    "Context: {context}\n",
    "Question: {question}\n",
    "\n",
    "Only return the helpful answer below in a complete sentence and nothing else.\n",
    "format the answers in bullets wherever required and prettify the text. Mention all the nested points that are truly required.\n",
    "Helpful answer:\n",
    "\"\"\""
   ]
  },
  {
   "cell_type": "code",
   "execution_count": 14,
   "metadata": {},
   "outputs": [
    {
     "data": {
      "text/plain": [
       "PromptTemplate(input_variables=['context', 'question'], template=\"Use the following pieces of information to answer the user's question.\\nIf you don't know the answer, just say that you don't know, don't try to make up an answer.\\n\\nContext: {context}\\nQuestion: {question}\\n\\nOnly return the helpful answer below in a complete sentence and nothing else.\\nformat the answers in bullets wherever required and prettify the text. Mention all the nested points that are truly required.\\nHelpful answer:\\n\")"
      ]
     },
     "execution_count": 14,
     "metadata": {},
     "output_type": "execute_result"
    }
   ],
   "source": [
    "def set_custom_prompt():\n",
    "\n",
    "    prompt = PromptTemplate(template=custom_prompt_template,\n",
    "                            input_variables=['context', 'question'])\n",
    "    return prompt\n",
    "\n",
    "prompt = set_custom_prompt()\n",
    "prompt\n"
   ]
  },
  {
   "cell_type": "code",
   "execution_count": 17,
   "metadata": {},
   "outputs": [],
   "source": [
    "memory = ConversationBufferMemory(memory_key='chat_history', return_messages=True)\n",
    "\n",
    "conversation_chain = ConversationalRetrievalChain.from_llm(\n",
    "        llm=llm,\n",
    "        retriever=retriever,\n",
    "        memory=memory,\n",
    "        combine_docs_chain_kwargs={'prompt':prompt}\n",
    "    )"
   ]
  },
  {
   "cell_type": "code",
   "execution_count": 23,
   "metadata": {},
   "outputs": [],
   "source": [
    "response = conversation_chain({\n",
    "    \"question\":\"what documents are required to carry on the date of joining?\"\n",
    "})"
   ]
  },
  {
   "cell_type": "code",
   "execution_count": 24,
   "metadata": {},
   "outputs": [
    {
     "name": "stdout",
     "output_type": "stream",
     "text": [
      "The candidate is expected to carry the following documents on the date of joining:\n",
      "- Certificates supporting academic/professional qualifications\n",
      "  - SSC/10th Class - Certificate along with the mark sheets\n",
      "  - Intermediate/12th Standard - Certificate along with the mark sheets\n",
      "  - Bachelors Degree - Certificates along with the semester/year wise mark sheets\n",
      "  - Masters / Professional Degree - Certificates along with the semester/year wise mark sheets\n",
      "  - Diploma / PG Diploma - Certificate along with the mark sheets\n",
      "  - Any other relevant academic certificates\n",
      "- Latest salary payslip / Salary Certificate\n",
      "- Relieving letter from last employer\n",
      "- Service Certificate / Proof of Employment from present & all previous employers\n",
      "- Form 16 (OR) Taxable Income Statement duly certified by the previous employer\n",
      "- Statement showing the deductions & Taxable Income with break-up\n",
      "- 6 recent passport colour photographs & 1 stamp size colour photograph\n",
      "- Valid Passport: Photocopy of valid passport inclusive of all blank pages (or) Receipt in proof as issued by the passport office, in case applied for the passport\n",
      "- Photocopy of the PAN Card (if applicable)\n",
      "- Date of Birth Certificate / Proof of Age\n",
      "- PF Account No\n",
      "- Photocopy of the APPOINTMENT ORDER as issued by KARVY\n",
      "- Physical fitness certificate from a civil surgeon/MBBS registered practitioner\n"
     ]
    }
   ],
   "source": [
    "print(response['answer'])"
   ]
  },
  {
   "cell_type": "code",
   "execution_count": 25,
   "metadata": {},
   "outputs": [
    {
     "data": {
      "text/plain": [
       "{'question': 'what documents are required to carry on the date of joining?',\n",
       " 'chat_history': [HumanMessage(content='how are you?'),\n",
       "  AIMessage(content=\"I don't know.\"),\n",
       "  HumanMessage(content='what is the dress code of an organization?'),\n",
       "  AIMessage(content='The dress code of the organization is as follows:\\n- Men:\\n  - Monday to Thursday: Formals with Tie\\n  - Friday: Smart casuals\\n  - Saturday: Casuals\\n- Women:\\n  - Monday to Friday: Formals'),\n",
       "  HumanMessage(content='what documents are required to carry on the date of joining?'),\n",
       "  AIMessage(content='The candidate is expected to carry the following documents on the date of joining:\\n- Certificates supporting academic/professional qualifications\\n  - SSC/10th Class - Certificate along with the mark sheets\\n  - Intermediate/12th Standard - Certificate along with the mark sheets\\n  - Bachelors Degree - Certificates along with the semester/year wise mark sheets\\n  - Masters / Professional Degree - Certificates along with the semester/year wise mark sheets\\n  - Diploma / PG Diploma - Certificate along with the mark sheets\\n  - Any other relevant academic certificates\\n- Latest salary payslip / Salary Certificate\\n- Relieving letter from last employer\\n- Service Certificate / Proof of Employment from present & all previous employers\\n- Form 16 (OR) Taxable Income Statement duly certified by the previous employer\\n- Statement showing the deductions & Taxable Income with break-up\\n- 6 recent passport colour photographs & 1 stamp size colour photograph\\n- Valid Passport: Photocopy of valid passport inclusive of all blank pages (or) Receipt in proof as issued by the passport office, in case applied for the passport\\n- Photocopy of the PAN Card (if applicable)\\n- Date of Birth Certificate / Proof of Age\\n- PF Account No\\n- Photocopy of the APPOINTMENT ORDER as issued by KARVY\\n- Physical fitness certificate from a civil surgeon/MBBS registered practitioner')],\n",
       " 'answer': 'The candidate is expected to carry the following documents on the date of joining:\\n- Certificates supporting academic/professional qualifications\\n  - SSC/10th Class - Certificate along with the mark sheets\\n  - Intermediate/12th Standard - Certificate along with the mark sheets\\n  - Bachelors Degree - Certificates along with the semester/year wise mark sheets\\n  - Masters / Professional Degree - Certificates along with the semester/year wise mark sheets\\n  - Diploma / PG Diploma - Certificate along with the mark sheets\\n  - Any other relevant academic certificates\\n- Latest salary payslip / Salary Certificate\\n- Relieving letter from last employer\\n- Service Certificate / Proof of Employment from present & all previous employers\\n- Form 16 (OR) Taxable Income Statement duly certified by the previous employer\\n- Statement showing the deductions & Taxable Income with break-up\\n- 6 recent passport colour photographs & 1 stamp size colour photograph\\n- Valid Passport: Photocopy of valid passport inclusive of all blank pages (or) Receipt in proof as issued by the passport office, in case applied for the passport\\n- Photocopy of the PAN Card (if applicable)\\n- Date of Birth Certificate / Proof of Age\\n- PF Account No\\n- Photocopy of the APPOINTMENT ORDER as issued by KARVY\\n- Physical fitness certificate from a civil surgeon/MBBS registered practitioner'}"
      ]
     },
     "execution_count": 25,
     "metadata": {},
     "output_type": "execute_result"
    }
   ],
   "source": [
    "response"
   ]
  },
  {
   "cell_type": "code",
   "execution_count": 33,
   "metadata": {},
   "outputs": [],
   "source": [
    "qa = RetrievalQA.from_chain_type(llm=llm,\n",
    "                               chain_type=\"stuff\",\n",
    "                               retriever=retriever,\n",
    "                               return_source_documents=True,\n",
    "                               memory = memory,\n",
    "                               chain_type_kwargs={\"prompt\": prompt})"
   ]
  },
  {
   "cell_type": "code",
   "execution_count": 35,
   "metadata": {},
   "outputs": [],
   "source": [
    "response = qa.invoke({\n",
    "    \"query\": \"what is the dress code of an organization?\"\n",
    "    })"
   ]
  },
  {
   "cell_type": "code",
   "execution_count": 36,
   "metadata": {},
   "outputs": [
    {
     "data": {
      "text/plain": [
       "{'query': 'what is the dress code of an organization?',\n",
       " 'history': [HumanMessage(content='what is the grade of assistant manager?'),\n",
       "  AIMessage(content='- The grade of Assistant Manager is 4.'),\n",
       "  HumanMessage(content='what is the dress code of an organization?'),\n",
       "  AIMessage(content='The dress code for men in the organization is:\\n- Monday to Thursday: Formals with Tie\\n- Friday: Smart casuals\\n- Saturday: Casuals\\n\\nThe dress code for women in the organization is:\\n- Monday to Friday: Formals')],\n",
       " 'result': 'The dress code for men in the organization is:\\n- Monday to Thursday: Formals with Tie\\n- Friday: Smart casuals\\n- Saturday: Casuals\\n\\nThe dress code for women in the organization is:\\n- Monday to Friday: Formals',\n",
       " 'source_documents': [Document(metadata={'source': './data/output.md'}, page_content='Index\\n\\n9.0 Working Hours / Days\\n\\nAll employees will follow the normal working hours as follows:\\n\\nHO - Monday to Friday - 9:00 am to 6:00 pm\\n\\nOther Officer - Monday to Friday - 9:00 am to 6:00 pm, Saturday ‚Äì 9:00 am to 1:30 pm\\n\\nThe working hours are designed to meet and exceed customer requirements. Employees may be required to extend working hours accordingly.\\n\\nIndex\\n\\n10.0 Dress Code\\n\\nThe following dress code has been prescribed for all employees of the company:\\n\\nMen\\n\\nMonday to Thursday ‚Äì Formals with Tie\\n\\nFriday ‚Äì Smart casuals\\n\\nSaturday ‚Äì Casuals\\n\\nWomen\\n\\nMonday to Friday ‚Äì Formals\\n\\nThis document is a proprietary information of KFSL and should not be reproduced or altered without requisite permissions.\\n\\nConfidential\\n\\nPage 18 of 28\\n\\nHR Policy Manual - Karvy Financial Services Ltd\\n\\nbody {\\n\\nfont-family: Arial, sans-serif;\\n\\nline-height: 1.6;\\n\\nmargin: 20px;\\n\\nh1 {\\n\\ntext-align: center;\\n\\nh2 {\\n\\ncolor: #2c3e50;\\n\\nh3 {\\n\\ncolor: #34495e;\\n\\np {\\n\\nmargin: 10px 0;\\n\\n.index {\\n\\nmargin: 20px 0;\\n\\nHuman Resource Policy Manual Version 1.0\\n\\nKarvy Financial Services Ltd\\n\\nIndex\\n\\n11.0 Attendance\\n\\n12.0 Internal Transfers\\n\\n13.0 Separation Process\\n\\n11.0 Attendance\\n\\nObjective\\n\\nTo ensure that the processing of salary happens correctly keeping in mind days of presence and absence.\\n\\nProcess\\n\\nPre-requisites: It is mandatory to maintain attendance register in all offices.\\n\\nIt is mandatory for all employees to sign the attendance register along with in-time. The following legends would represent various forms of attendance on the muster:\\n\\nP - Present\\n\\nOD - Outdoor duty\\n\\nL - Leave\\n\\nLOP ‚Äì Loss of pay\\n\\nOn the 16th of every month, the region/division/vertical head is required to send a copy of the attendance register from the 16th of the last month to the 15th of the current month duly signed and approved by him to KFSL HR.\\n\\n12.0 Internal Transfers\\n\\nObjective\\n\\nTo ensure a uniform process is followed while considering internal transfers.\\n\\nScope')]}"
      ]
     },
     "execution_count": 36,
     "metadata": {},
     "output_type": "execute_result"
    }
   ],
   "source": [
    "response"
   ]
  },
  {
   "cell_type": "code",
   "execution_count": 169,
   "metadata": {},
   "outputs": [
    {
     "name": "stdout",
     "output_type": "stream",
     "text": [
      "- The grade of Assistant Manager is 4.\n"
     ]
    }
   ],
   "source": [
    "print(response['result'])"
   ]
  },
  {
   "cell_type": "code",
   "execution_count": 198,
   "metadata": {},
   "outputs": [],
   "source": [
    "response = qa.invoke({\n",
    "    \"query\": \"what is the dress code of an organization?\"\n",
    "    })"
   ]
  },
  {
   "cell_type": "code",
   "execution_count": 199,
   "metadata": {},
   "outputs": [
    {
     "data": {
      "text/plain": [
       "{'query': 'what is the dress code of an organization?',\n",
       " 'result': 'The dress code for men in the organization is:\\n- Monday to Thursday: Formals with Tie\\n- Friday: Smart casuals\\n- Saturday: Casuals\\n\\nThe dress code for women in the organization is:\\n- Monday to Friday: Formals',\n",
       " 'source_documents': [Document(metadata={'source': './data/output.md'}, page_content='Index\\n\\n9.0 Working Hours / Days\\n\\nAll employees will follow the normal working hours as follows:\\n\\nHO - Monday to Friday - 9:00 am to 6:00 pm\\n\\nOther Officer - Monday to Friday - 9:00 am to 6:00 pm, Saturday ‚Äì 9:00 am to 1:30 pm\\n\\nThe working hours are designed to meet and exceed customer requirements. Employees may be required to extend working hours accordingly.\\n\\nIndex\\n\\n10.0 Dress Code\\n\\nThe following dress code has been prescribed for all employees of the company:\\n\\nMen\\n\\nMonday to Thursday ‚Äì Formals with Tie\\n\\nFriday ‚Äì Smart casuals\\n\\nSaturday ‚Äì Casuals\\n\\nWomen\\n\\nMonday to Friday ‚Äì Formals\\n\\nThis document is a proprietary information of KFSL and should not be reproduced or altered without requisite permissions.\\n\\nConfidential\\n\\nPage 18 of 28\\n\\nHR Policy Manual - Karvy Financial Services Ltd\\n\\nbody {\\n\\nfont-family: Arial, sans-serif;\\n\\nline-height: 1.6;\\n\\nmargin: 20px;\\n\\nh1 {\\n\\ntext-align: center;\\n\\nh2 {\\n\\ncolor: #2c3e50;\\n\\nh3 {\\n\\ncolor: #34495e;\\n\\np {\\n\\nmargin: 10px 0;\\n\\n.index {\\n\\nmargin: 20px 0;\\n\\nHuman Resource Policy Manual Version 1.0\\n\\nKarvy Financial Services Ltd\\n\\nIndex\\n\\n11.0 Attendance\\n\\n12.0 Internal Transfers\\n\\n13.0 Separation Process\\n\\n11.0 Attendance\\n\\nObjective\\n\\nTo ensure that the processing of salary happens correctly keeping in mind days of presence and absence.\\n\\nProcess\\n\\nPre-requisites: It is mandatory to maintain attendance register in all offices.\\n\\nIt is mandatory for all employees to sign the attendance register along with in-time. The following legends would represent various forms of attendance on the muster:\\n\\nP - Present\\n\\nOD - Outdoor duty\\n\\nL - Leave\\n\\nLOP ‚Äì Loss of pay\\n\\nOn the 16th of every month, the region/division/vertical head is required to send a copy of the attendance register from the 16th of the last month to the 15th of the current month duly signed and approved by him to KFSL HR.\\n\\n12.0 Internal Transfers\\n\\nObjective\\n\\nTo ensure a uniform process is followed while considering internal transfers.\\n\\nScope')]}"
      ]
     },
     "execution_count": 199,
     "metadata": {},
     "output_type": "execute_result"
    }
   ],
   "source": [
    "response"
   ]
  },
  {
   "cell_type": "code",
   "execution_count": 200,
   "metadata": {},
   "outputs": [
    {
     "name": "stdout",
     "output_type": "stream",
     "text": [
      "The dress code for men in the organization is:\n",
      "- Monday to Thursday: Formals with Tie\n",
      "- Friday: Smart casuals\n",
      "- Saturday: Casuals\n",
      "\n",
      "The dress code for women in the organization is:\n",
      "- Monday to Friday: Formals\n"
     ]
    }
   ],
   "source": [
    "print(response['result'])"
   ]
  },
  {
   "cell_type": "code",
   "execution_count": 201,
   "metadata": {},
   "outputs": [],
   "source": [
    "response = qa.invoke({\n",
    "    \"query\": \"and what do women wear on saturday?\"\n",
    "    })"
   ]
  },
  {
   "cell_type": "code",
   "execution_count": 202,
   "metadata": {},
   "outputs": [
    {
     "data": {
      "text/plain": [
       "{'query': 'and what do women wear on saturday?',\n",
       " 'result': '- Women wear casuals on Saturdays.',\n",
       " 'source_documents': [Document(metadata={'source': './data/output.md'}, page_content='Index\\n\\n9.0 Working Hours / Days\\n\\nAll employees will follow the normal working hours as follows:\\n\\nHO - Monday to Friday - 9:00 am to 6:00 pm\\n\\nOther Officer - Monday to Friday - 9:00 am to 6:00 pm, Saturday ‚Äì 9:00 am to 1:30 pm\\n\\nThe working hours are designed to meet and exceed customer requirements. Employees may be required to extend working hours accordingly.\\n\\nIndex\\n\\n10.0 Dress Code\\n\\nThe following dress code has been prescribed for all employees of the company:\\n\\nMen\\n\\nMonday to Thursday ‚Äì Formals with Tie\\n\\nFriday ‚Äì Smart casuals\\n\\nSaturday ‚Äì Casuals\\n\\nWomen\\n\\nMonday to Friday ‚Äì Formals\\n\\nThis document is a proprietary information of KFSL and should not be reproduced or altered without requisite permissions.\\n\\nConfidential\\n\\nPage 18 of 28\\n\\nHR Policy Manual - Karvy Financial Services Ltd\\n\\nbody {\\n\\nfont-family: Arial, sans-serif;\\n\\nline-height: 1.6;\\n\\nmargin: 20px;\\n\\nh1 {\\n\\ntext-align: center;\\n\\nh2 {\\n\\ncolor: #2c3e50;\\n\\nh3 {\\n\\ncolor: #34495e;\\n\\np {\\n\\nmargin: 10px 0;\\n\\n.index {\\n\\nmargin: 20px 0;\\n\\nHuman Resource Policy Manual Version 1.0\\n\\nKarvy Financial Services Ltd\\n\\nIndex\\n\\n11.0 Attendance\\n\\n12.0 Internal Transfers\\n\\n13.0 Separation Process\\n\\n11.0 Attendance\\n\\nObjective\\n\\nTo ensure that the processing of salary happens correctly keeping in mind days of presence and absence.\\n\\nProcess\\n\\nPre-requisites: It is mandatory to maintain attendance register in all offices.\\n\\nIt is mandatory for all employees to sign the attendance register along with in-time. The following legends would represent various forms of attendance on the muster:\\n\\nP - Present\\n\\nOD - Outdoor duty\\n\\nL - Leave\\n\\nLOP ‚Äì Loss of pay\\n\\nOn the 16th of every month, the region/division/vertical head is required to send a copy of the attendance register from the 16th of the last month to the 15th of the current month duly signed and approved by him to KFSL HR.\\n\\n12.0 Internal Transfers\\n\\nObjective\\n\\nTo ensure a uniform process is followed while considering internal transfers.\\n\\nScope')]}"
      ]
     },
     "execution_count": 202,
     "metadata": {},
     "output_type": "execute_result"
    }
   ],
   "source": [
    "response"
   ]
  },
  {
   "cell_type": "code",
   "execution_count": 203,
   "metadata": {},
   "outputs": [
    {
     "name": "stdout",
     "output_type": "stream",
     "text": [
      "- Women wear casuals on Saturdays.\n"
     ]
    }
   ],
   "source": [
    "print(response['result'])"
   ]
  },
  {
   "cell_type": "code",
   "execution_count": 204,
   "metadata": {},
   "outputs": [],
   "source": [
    "response = qa.invoke({\n",
    "    \"query\": \"what documents are required to carry on the date of joining?\"\n",
    "    })"
   ]
  },
  {
   "cell_type": "code",
   "execution_count": 205,
   "metadata": {},
   "outputs": [
    {
     "data": {
      "text/plain": [
       "{'query': 'what documents are required to carry on the date of joining?',\n",
       " 'result': 'On the date of joining, the candidate is expected to carry the following documents:\\n- Certificates supporting academic/professional qualifications:\\n  - SSC/10th Class - Certificate along with the mark sheets\\n  - Intermediate/12th Standard - Certificate along with the mark sheets\\n  - Bachelors Degree - Certificates along with the semester/year wise mark sheets\\n  - Masters / Professional Degree - Certificates along with the semester/year wise mark sheets\\n  - Diploma / PG Diploma - Certificate along with the mark sheets\\n  - Any other relevant academic certificates\\n- Latest salary payslip / Salary Certificate\\n- Relieving letter from last employer\\n- Service Certificate / Proof of Employment from present & all previous employers\\n- Form 16 (OR) Taxable Income Statement duly certified by the previous employer\\n- Statement showing the deductions & Taxable Income with break-up\\n- 6 recent passport colour photographs & 1 stamp size colour photograph\\n- Valid Passport:\\n  - Photocopy of valid passport inclusive of all blank pages (or)\\n  - Receipt in proof as issued by the passport office, in case applied for the passport\\n- Photocopy of the PAN Card (if applicable)\\n- Date of Birth Certificate / Proof of Age\\n- PF Account No\\n- Photocopy of the APPOINTMENT ORDER as issued by KARVY\\n- Physical fitness certificate from a civil surgeon/MBBS registered practitioner',\n",
       " 'source_documents': [Document(metadata={'source': './data/output.md'}, page_content='Process\\n\\nThree days before the date the candidate is supposed to join, HR will inform the following concerned:\\n\\nLine manager / Vertical head\\n\\nAdmin department (to ensure seating space / desk-phone / Joining kit)\\n\\nIT department for allocation of desktop / laptop\\n\\nOn the date of joining, the Line manager should welcome the new entrant in the organisation and communicate the joining intimation to the KFSL HR for initiation of mail ID and employee number.\\n\\nDocuments Required on the Date of Joining\\n\\nThe candidate is expected to carry the following documents:\\n\\nCertificates supporting academic/professional qualifications:\\n\\nSSC/10th Class - Certificate along with the mark sheets\\n\\nIntermediate/12th Standard - Certificate along with the mark sheets\\n\\nBachelors Degree ñ Certificates along with the semester/year wise mark sheets\\n\\nMasters / Professional Degree - Certificates along with the semester/year wise mark sheets\\n\\nDiploma / PG Diploma ñ Certificate along with the mark sheets\\n\\nAny other relevant academic certificates\\n\\nLatest salary payslip / Salary Certificate\\n\\nRelieving letter from last employer\\n\\nService Certificate / Proof of Employment from present & all previous employers.\\n\\nForm 16 (OR) Taxable Income Statement duly certified by the previous employer.\\n\\nStatement showing the deductions & Taxable Income with break-up\\n\\n6 recent passport colour photographs & 1 stamp size colour photograph\\n\\nValid Passport:\\n\\nPhotocopy of valid passport inclusive of all blank pages (or)\\n\\nReceipt in proof as issued by the passport office, in case applied for the passport.\\n\\nPhotocopy of the PAN Card (if applicable)\\n\\nDate of Birth Certificate / Proof of Age\\n\\nPF Account No.\\n\\nPhotocopy of the APPOINTMENT ORDER as issued by KARVY.\\n\\nPhysical fitness certificate from a civil surgeon/MBBS registered practitioner.')]}"
      ]
     },
     "execution_count": 205,
     "metadata": {},
     "output_type": "execute_result"
    }
   ],
   "source": [
    "response"
   ]
  },
  {
   "cell_type": "code",
   "execution_count": 206,
   "metadata": {},
   "outputs": [
    {
     "name": "stdout",
     "output_type": "stream",
     "text": [
      "On the date of joining, the candidate is expected to carry the following documents:\n",
      "- Certificates supporting academic/professional qualifications:\n",
      "  - SSC/10th Class - Certificate along with the mark sheets\n",
      "  - Intermediate/12th Standard - Certificate along with the mark sheets\n",
      "  - Bachelors Degree - Certificates along with the semester/year wise mark sheets\n",
      "  - Masters / Professional Degree - Certificates along with the semester/year wise mark sheets\n",
      "  - Diploma / PG Diploma - Certificate along with the mark sheets\n",
      "  - Any other relevant academic certificates\n",
      "- Latest salary payslip / Salary Certificate\n",
      "- Relieving letter from last employer\n",
      "- Service Certificate / Proof of Employment from present & all previous employers\n",
      "- Form 16 (OR) Taxable Income Statement duly certified by the previous employer\n",
      "- Statement showing the deductions & Taxable Income with break-up\n",
      "- 6 recent passport colour photographs & 1 stamp size colour photograph\n",
      "- Valid Passport:\n",
      "  - Photocopy of valid passport inclusive of all blank pages (or)\n",
      "  - Receipt in proof as issued by the passport office, in case applied for the passport\n",
      "- Photocopy of the PAN Card (if applicable)\n",
      "- Date of Birth Certificate / Proof of Age\n",
      "- PF Account No\n",
      "- Photocopy of the APPOINTMENT ORDER as issued by KARVY\n",
      "- Physical fitness certificate from a civil surgeon/MBBS registered practitioner\n"
     ]
    }
   ],
   "source": [
    "print(response['result'])"
   ]
  },
  {
   "cell_type": "code",
   "execution_count": 207,
   "metadata": {},
   "outputs": [],
   "source": [
    "response = qa.invoke({\n",
    "    \"query\": \"what is the notice period of manager on probation and confirmation?\"\n",
    "    })"
   ]
  },
  {
   "cell_type": "code",
   "execution_count": 208,
   "metadata": {},
   "outputs": [
    {
     "data": {
      "text/plain": [
       "{'query': 'what is the notice period of manager on probation and confirmation?',\n",
       " 'result': '- The notice period for a manager on probation is 15 days.\\n- The notice period for a manager on confirmation is 30 days.',\n",
       " 'source_documents': [Document(metadata={'source': './data/output.md'}, page_content='Step 4: Based on the discussion, the supervisor needs to inform HR either on confirmation of services or extension of probation for the appraisee. Extension can be granted for a span of 1 to 3 months depending on the discussion of the supervisor, skip level manager, and HR. In case of extension of probation, the supervisor should share a performance improvement plan with the appraisee along with defined timelines for the achievement of the same. Whichever is the case, probation extension and confirmations have to be finally approved by the CEO.\\n\\nStep 5: Confirmation/probation extension letter has to be issued to the appraisee. In case a probation extension letter is issued, it has to be accompanied with a copy of the performance improvement plan. The performance improvement plan has to be drafted by the line manager.\\n\\nStep 6: (Only for probation extension cases) There has to be a fortnightly discussion on the appraiseeís progress on the performance improvement plan. Steps 1 to 5 have to be repeated while nearing the completion of the extended probation period. In case the employee under consideration does not scale up on performance parameters, the employeeís services can be terminated post discussion and approval of the immediate line manager, division/region/vertical head, CEO, and KFSL HR.\\n\\nNotice Period\\n\\nObjective: To protect the interest of the organization during separation of employees.\\n\\nScope: All employees on rolls of the company.\\n\\nNotice Period Plan\\n\\n|Level|On Probation|On Confirmation|\\n\\n|---|---|---|\\n\\n|Associate and Senior Associate|Nil|7 Days|\\n\\n|Officer to Manager|15 Days|30 Days|\\n\\n|Sr. Manager & above|30 Days|60 Days|\\n\\nThe company reserves the right to not accept compensation in lieu of notice period and make the employee serve partial or entire notice period. However, in the event an employeeís services are terminated for fraud, theft, or withholding of information or for any other form of misconduct, notice period will not be payable.')]}"
      ]
     },
     "execution_count": 208,
     "metadata": {},
     "output_type": "execute_result"
    }
   ],
   "source": [
    "response"
   ]
  },
  {
   "cell_type": "code",
   "execution_count": 209,
   "metadata": {},
   "outputs": [
    {
     "name": "stdout",
     "output_type": "stream",
     "text": [
      "- The notice period for a manager on probation is 15 days.\n",
      "- The notice period for a manager on confirmation is 30 days.\n"
     ]
    }
   ],
   "source": [
    "print(response['result'])"
   ]
  },
  {
   "cell_type": "code",
   "execution_count": 210,
   "metadata": {},
   "outputs": [],
   "source": [
    "response = qa.invoke({\n",
    "    \"query\": \"for associates?\"\n",
    "    })"
   ]
  },
  {
   "cell_type": "code",
   "execution_count": 211,
   "metadata": {},
   "outputs": [
    {
     "data": {
      "text/plain": [
       "{'query': 'for associates?',\n",
       " 'result': 'The interview process for Associate Trainees includes three tiers of interviewers: \\n- Tier 1 & 2: CEO and KFSL HR\\n- Tier 3: VP level vertical head and KFSL HR',\n",
       " 'source_documents': [Document(metadata={'source': './data/output.md'}, page_content='Recruitment ñ Associate Trainee Program\\n\\nObjective\\n\\nTo provide business with resources for specific short-term projects simultaneously providing exposure to students who have to undertake projects as a part of their curriculum.\\n\\nScope\\n\\nAll trainees hired.\\n\\nProcess\\n\\nIdentification and grading of management institutes has to be an ongoing exercise. Based on this exercise, KFSL shall embark on identification of institutes from where associate trainees can be hired.\\n\\nThe plan should contain the following:\\n\\nProject guide\\n\\nTitle of the project\\n\\nDepartment in which the project will be undertaken\\n\\nStipend payable (if any)\\n\\nDate of start and tenure of the project\\n\\nOn approval of this plan from the CEO, KFSL HR will identify the institutes which can be visited to fulfill the requirement of trainees.\\n\\nInterview Process\\n\\nThe following grid has to be adhered to while interviewing and finalizing an Associate Trainee:\\n\\nTier 1 & 2: CEO and KFSL HR\\n\\nTier 3: VP level vertical head and KFSL HR\\n\\nThe interviewer is expected to understand the capabilities and requirements of the trainee. The project details like the title, tenor, etc. should be shared during the interview discussion. The prospective trainee also needs to submit an introduction letter from his institute.\\n\\nOn successful completion of the training, the trainee is to be issued a letter of completion.\\n\\nThis document is a proprietary information of KFSL and should not be reproduced or altered without requisite permissions.\\n\\nHR Policy Manual - Joining Process\\n\\nbody {\\n\\nfont-family: Arial, sans-serif;\\n\\nline-height: 1.6;\\n\\nmargin: 20px;\\n\\nh1, h2, h3 {\\n\\ncolor: #2c3e50;\\n\\nul {\\n\\nmargin: 10px 0;\\n\\npadding-left: 20px;\\n\\n.confidential {\\n\\nfont-weight: bold;\\n\\ncolor: red;\\n\\nHuman Resource Policy Manual Version 1.0\\n\\nKarvy Financial Services Ltd\\n\\n2.3 Joining Process\\n\\nObjective\\n\\nTo ensure that the new member of the Karvy family settles comfortably in the organisation.\\n\\nProcess')]}"
      ]
     },
     "execution_count": 211,
     "metadata": {},
     "output_type": "execute_result"
    }
   ],
   "source": [
    "response"
   ]
  },
  {
   "cell_type": "code",
   "execution_count": 212,
   "metadata": {},
   "outputs": [
    {
     "name": "stdout",
     "output_type": "stream",
     "text": [
      "The interview process for Associate Trainees includes three tiers of interviewers: \n",
      "- Tier 1 & 2: CEO and KFSL HR\n",
      "- Tier 3: VP level vertical head and KFSL HR\n"
     ]
    }
   ],
   "source": [
    "print(response['result'])"
   ]
  },
  {
   "cell_type": "code",
   "execution_count": null,
   "metadata": {},
   "outputs": [],
   "source": []
  }
 ],
 "metadata": {
  "kernelspec": {
   "display_name": "llama",
   "language": "python",
   "name": "python3"
  },
  "language_info": {
   "codemirror_mode": {
    "name": "ipython",
    "version": 3
   },
   "file_extension": ".py",
   "mimetype": "text/x-python",
   "name": "python",
   "nbconvert_exporter": "python",
   "pygments_lexer": "ipython3",
   "version": "3.10.8"
  }
 },
 "nbformat": 4,
 "nbformat_minor": 2
}
